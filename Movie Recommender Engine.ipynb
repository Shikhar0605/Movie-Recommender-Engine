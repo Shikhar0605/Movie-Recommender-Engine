{
 "cells": [
  {
   "cell_type": "markdown",
   "metadata": {},
   "source": [
    "## Movie Recommendation Engine\n",
    "Created a movie recommender engine based on **Cosine Similarity**."
   ]
  },
  {
   "cell_type": "markdown",
   "metadata": {},
   "source": [
    "### Movie input from the user:"
   ]
  },
  {
   "cell_type": "code",
   "execution_count": 182,
   "metadata": {},
   "outputs": [
    {
     "name": "stdout",
     "output_type": "stream",
     "text": [
      "Enter your favourite movie:Avatar\n"
     ]
    }
   ],
   "source": [
    "enter_movie=input('Enter your favourite movie:')"
   ]
  },
  {
   "cell_type": "markdown",
   "metadata": {},
   "source": [
    "### Imported libraries:"
   ]
  },
  {
   "cell_type": "code",
   "execution_count": 183,
   "metadata": {},
   "outputs": [],
   "source": [
    "import pandas as pd\n",
    "import numpy as np \n",
    "import sklearn \n",
    "from sklearn.feature_extraction.text import CountVectorizer\n",
    "from sklearn.metrics.pairwise import cosine_similarity"
   ]
  },
  {
   "cell_type": "code",
   "execution_count": 184,
   "metadata": {},
   "outputs": [],
   "source": [
    "df=pd.read_csv('movie_dataset.csv')    ### Dataset is taken from IMDB"
   ]
  },
  {
   "cell_type": "code",
   "execution_count": 185,
   "metadata": {},
   "outputs": [],
   "source": [
    "list_of_features=['keywords','cast','genres','director']  \n",
    "for feature in list_of_features:                  ### List of features used\n",
    "    df[feature]=df[feature].fillna(' ')\n",
    "df['important_features']=df['keywords']+' '+df['cast']+' '+df['genres']+' '+df['director']  ## Combined these features into new column\n",
    "\n",
    "##########################################################################################\n",
    "\n",
    "t=CountVectorizer()                                    \n",
    "count_matrix=t.fit_transform(df['important_features'])  ### Created Count Matrix using sklearn CountVectorizer()\n",
    "cosine_sim=cosine_similarity(count_matrix)              ### Computed cosine similarity based on the count matrix\n",
    "\n",
    "##########################################################################################\n",
    "\n",
    "movie_index=df[df['title']==enter_movie].index.values[0]\n",
    "similar_movies=list(enumerate(cosine_sim[movie_index]))\n",
    "sorted_similar_movies=sorted(similar_movies,key=lambda x:x[1],reverse=True)\n",
    "index_of_sorted_movies=[x[0] for x in sorted_similar_movies]"
   ]
  },
  {
   "cell_type": "markdown",
   "metadata": {},
   "source": [
    "### Output: Recommended top 10 movies:"
   ]
  },
  {
   "cell_type": "code",
   "execution_count": 186,
   "metadata": {},
   "outputs": [
    {
     "name": "stdout",
     "output_type": "stream",
     "text": [
      "Avatar\n",
      "Guardians of the Galaxy\n",
      "Aliens\n",
      "Star Wars: Clone Wars: Volume 1\n",
      "Star Trek Into Darkness\n",
      "Star Trek Beyond\n",
      "Alien\n",
      "Lockout\n",
      "Jason X\n",
      "The Helix... Loaded\n",
      "Moonraker\n"
     ]
    }
   ],
   "source": [
    "i=0\n",
    "for movie_index in index_of_sorted_movies:\n",
    "    similar_movie_title=df[df.index==movie_index]['title'].values[0]\n",
    "    if i<=10:\n",
    "        print(similar_movie_title)\n",
    "        i=i+1"
   ]
  },
  {
   "cell_type": "code",
   "execution_count": null,
   "metadata": {},
   "outputs": [],
   "source": []
  }
 ],
 "metadata": {
  "kernelspec": {
   "display_name": "Python 3",
   "language": "python",
   "name": "python3"
  },
  "language_info": {
   "codemirror_mode": {
    "name": "ipython",
    "version": 3
   },
   "file_extension": ".py",
   "mimetype": "text/x-python",
   "name": "python",
   "nbconvert_exporter": "python",
   "pygments_lexer": "ipython3",
   "version": "3.6.9"
  }
 },
 "nbformat": 4,
 "nbformat_minor": 4
}
